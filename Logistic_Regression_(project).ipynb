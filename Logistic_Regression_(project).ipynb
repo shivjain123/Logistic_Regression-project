{
  "nbformat": 4,
  "nbformat_minor": 0,
  "metadata": {
    "colab": {
      "name": "Logistic Regression (project).ipynb",
      "provenance": [],
      "collapsed_sections": [],
      "authorship_tag": "ABX9TyObLXbzMC21E4uU5q1xrDVx",
      "include_colab_link": true
    },
    "kernelspec": {
      "name": "python3",
      "display_name": "Python 3"
    },
    "language_info": {
      "name": "python"
    }
  },
  "cells": [
    {
      "cell_type": "markdown",
      "metadata": {
        "id": "view-in-github",
        "colab_type": "text"
      },
      "source": [
        "<a href=\"https://colab.research.google.com/github/shivjain123/Logistic_Regression-project/blob/master/Logistic_Regression_(project).ipynb\" target=\"_parent\"><img src=\"https://colab.research.google.com/assets/colab-badge.svg\" alt=\"Open In Colab\"/></a>"
      ]
    },
    {
      "cell_type": "code",
      "metadata": {
        "id": "yy7tSCeoHfwc"
      },
      "source": [
        "import pandas as p\n",
        "import plotly.express as px\n",
        "\n",
        "df = p.read_csv(\"escape_velocity.csv\")\n",
        "\n",
        "velocity_list = df[\"Velocity\"].tolist()\n",
        "escape_list = df[\"Escaped\"].tolist()\n",
        "\n",
        "figure = px.scatter(x = velocity_list, y = escape_list)\n",
        "\n",
        "figure.show()"
      ],
      "execution_count": null,
      "outputs": []
    },
    {
      "cell_type": "code",
      "metadata": {
        "id": "aiLNWJSTODQp"
      },
      "source": [
        "import matplotlib.pyplot as plt\n",
        "from sklearn.linear_model import LogisticRegression as lr\n",
        "import numpy as np\n",
        "\n",
        "X = np.reshape(velocity_list, (len(velocity_list), 1))\n",
        "Y = np.reshape(escape_list, (len(escape_list), 1))\n",
        "\n",
        "lr = lr()\n",
        "lr.fit(X, Y)\n",
        "\n",
        "plt.figure()\n",
        "plt.scatter(X.ravel(), Y, color = \"black\", zorder = 20)\n",
        "\n",
        "def model(x):\n",
        "  return 1/(1+np.exp(-x))\n",
        "\n",
        "X_test = np.linspace(0, 20, 1000)\n",
        "chances = model(X_test * lr.coef_ + lr.intercept_).ravel()\n",
        "\n",
        "plt.plot(X_test, chances, color = \"red\", linewidth = 3)\n",
        "\n",
        "plt.axhline(y = 0, color = 'k', linestyle = '-')\n",
        "plt.axhline(y = 0.5, color = 'b', linestyle = '--')\n",
        "plt.axhline(y = 1, color = 'k', linestyle = '-')\n",
        "\n",
        "plt.axvline(x = X_test[23], color = 'b', linestyle = '--')\n",
        "\n",
        "plt.ylabel('y')\n",
        "plt.xlabel('x')"
      ],
      "execution_count": null,
      "outputs": []
    },
    {
      "cell_type": "code",
      "metadata": {
        "id": "MfpzvSYSW2aP"
      },
      "source": [
        "velocity_input = float(input(\"Please enter the velocity \"))\n",
        "chances = model(velocity_input * lr.coef_ + lr.intercept_).ravel()\n",
        "\n",
        "if (chances <= 0.01):\n",
        "  print(\"We cannot escape the gravity.\")\n",
        "elif (chances >= 1):\n",
        "  print(\"We can escape the gravity.\")\n",
        "elif (chances <= 0.5):\n",
        "  print(\"We cannot escape the gravity.\")\n",
        "elif (chances >= 0.5):\n",
        "  print(\"We might be able to escape the gravity.\")\n",
        "else:\n",
        "  pass"
      ],
      "execution_count": null,
      "outputs": []
    }
  ]
}